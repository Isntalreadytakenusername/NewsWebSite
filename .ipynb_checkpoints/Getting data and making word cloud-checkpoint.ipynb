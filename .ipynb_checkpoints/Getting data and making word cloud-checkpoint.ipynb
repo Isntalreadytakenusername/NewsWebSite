{
 "cells": [
  {
   "cell_type": "code",
   "execution_count": 79,
   "metadata": {},
   "outputs": [],
   "source": [
    "import feedparser\n",
    "from nltk.corpus import stopwords\n",
    "from matplotlib import pyplot as plt\n",
    "\n",
    "stopwords = stopwords.words(\"russian\") "
   ]
  },
  {
   "cell_type": "code",
   "execution_count": 6,
   "metadata": {},
   "outputs": [],
   "source": []
  },
  {
   "cell_type": "code",
   "execution_count": 89,
   "metadata": {},
   "outputs": [],
   "source": [
    "def get_data(url):    \n",
    "    data = feedparser.parse(url)\n",
    "    all_text = \"\"\n",
    "    for post in data.entries:\n",
    "        all_text = all_text + post.title + \". \"\n",
    "        all_text = all_text + post.summary + \" \"\n",
    "    return all_text"
   ]
  },
  {
   "cell_type": "code",
   "execution_count": 91,
   "metadata": {},
   "outputs": [],
   "source": [
    "# get_data(\"https://www.liga.net/news/all/rss.xml\")"
   ]
  },
  {
   "cell_type": "code",
   "execution_count": null,
   "metadata": {},
   "outputs": [],
   "source": []
  },
  {
   "cell_type": "code",
   "execution_count": 75,
   "metadata": {},
   "outputs": [],
   "source": [
    "def out_stop_words(text):\n",
    "    from nltk.corpus import stopwords\n",
    "    stopwords = stopwords.words(\"russian\")\n",
    "    text_list = text.split(\" \")\n",
    "    import pymorphy2\n",
    "    morph = pymorphy2.MorphAnalyzer()\n",
    "\n",
    "    text_list = all_text.split(\" \")\n",
    "    # words = ['грустно', 'зависимость', 'хорошему', 'приводит', 'альтернатив']\n",
    "    text_list_lem = []\n",
    "    for word in text_list:\n",
    "        p = morph.parse(word)[0]\n",
    "        text_list_lem.append(p.normal_form)\n",
    "#         print(p.normal_form)\n",
    "#     print(text_list_lem)\n",
    "    text_list_lem = [word for word in text_list_lem if word not in stopwords]\n",
    "    return \" \".join(text_list_lem)"
   ]
  },
  {
   "cell_type": "code",
   "execution_count": 94,
   "metadata": {},
   "outputs": [],
   "source": [
    "def get_word_cloud(all_text, filename):\n",
    "    from wordcloud import WordCloud\n",
    "    wc = WordCloud(height = 1080, width = 1800)\n",
    "    wc.generate(out_stop_words(all_text))\n",
    "    wc.to_file(filename+\".png\")"
   ]
  },
  {
   "cell_type": "code",
   "execution_count": 95,
   "metadata": {},
   "outputs": [],
   "source": [
    "get_word_cloud(out_stop_words(get_data(\"https://www.liga.net/news/all/rss.xml\")), \"test_all\")"
   ]
  },
  {
   "cell_type": "code",
   "execution_count": null,
   "metadata": {},
   "outputs": [],
   "source": []
  },
  {
   "cell_type": "code",
   "execution_count": null,
   "metadata": {},
   "outputs": [],
   "source": []
  },
  {
   "cell_type": "markdown",
   "metadata": {},
   "source": [
    "# Lemmatization of Russian"
   ]
  },
  {
   "cell_type": "code",
   "execution_count": 96,
   "metadata": {},
   "outputs": [],
   "source": [
    "# import pymorphy2\n",
    "# morph = pymorphy2.MorphAnalyzer()\n",
    "\n",
    "# text_list = all_text.split(\" \")\n",
    "# # words = ['грустно', 'зависимость', 'хорошему', 'приводит', 'альтернатив']\n",
    "# for word in text_list:\n",
    "#     p = morph.parse(word)[0]\n",
    "#     print(p.normal_form)"
   ]
  },
  {
   "cell_type": "code",
   "execution_count": 60,
   "metadata": {},
   "outputs": [],
   "source": []
  },
  {
   "cell_type": "code",
   "execution_count": null,
   "metadata": {},
   "outputs": [],
   "source": []
  },
  {
   "cell_type": "code",
   "execution_count": null,
   "metadata": {},
   "outputs": [],
   "source": []
  },
  {
   "cell_type": "code",
   "execution_count": null,
   "metadata": {},
   "outputs": [],
   "source": []
  },
  {
   "cell_type": "code",
   "execution_count": null,
   "metadata": {},
   "outputs": [],
   "source": []
  },
  {
   "cell_type": "code",
   "execution_count": null,
   "metadata": {},
   "outputs": [],
   "source": []
  }
 ],
 "metadata": {
  "kernelspec": {
   "display_name": "Python 3",
   "language": "python",
   "name": "python3"
  },
  "language_info": {
   "codemirror_mode": {
    "name": "ipython",
    "version": 3
   },
   "file_extension": ".py",
   "mimetype": "text/x-python",
   "name": "python",
   "nbconvert_exporter": "python",
   "pygments_lexer": "ipython3",
   "version": "3.7.6"
  }
 },
 "nbformat": 4,
 "nbformat_minor": 4
}
